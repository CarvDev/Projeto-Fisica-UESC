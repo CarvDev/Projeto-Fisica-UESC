{
 "cells": [
  {
   "cell_type": "markdown",
   "id": "bd44ae3d",
   "metadata": {},
   "source": [
    "### **Esse é o primeiro teste para o projeto**"
   ]
  },
  {
   "cell_type": "code",
   "execution_count": null,
   "id": "9a855d95",
   "metadata": {},
   "outputs": [],
   "source": [
    "import numpy as np\n",
    "import matplotlib.pyplot as plt"
   ]
  },
  {
   "cell_type": "code",
   "execution_count": null,
   "id": "501a615e",
   "metadata": {},
   "outputs": [],
   "source": [
    "# array de tempo t de 0 a 10 segundos com 1000 \"pontos\"\n",
    "t = np.linspace(0, 10, num=1000)\n",
    "# função y(t) = 3t^2 + 5 e \n",
    "y = 3 * t**2 + 5"
   ]
  },
  {
   "cell_type": "code",
   "execution_count": null,
   "id": "75c6f71a",
   "metadata": {},
   "outputs": [],
   "source": [
    "# delarando variável com valores maiores que 50\n",
    "maiores50 = y[y > 50]\n",
    "#tirando raiz quadrada de todos os elementos do array\n",
    "(np.sqrt(y))"
   ]
  },
  {
   "cell_type": "code",
   "execution_count": null,
   "id": "032a12fb",
   "metadata": {},
   "outputs": [],
   "source": [
    "# Criando gráfico e eixos\n",
    "fig, ax = plt.subplots()\n",
    "# definindo eixo x e y com os valores dos vetores de tempo e de posição, respectivamente\n",
    "ax.plot(t, y)\n",
    "# definindo o título\n",
    "ax.set_title(\"Gráfico Posição x Tempo\")\n",
    "# definindo a nome do eixo x\n",
    "ax.set_xlabel(\"Tempo (s)\")\n",
    "# definindo a nome do eixo y\n",
    "ax.set_ylabel(\"Posição (m)\")"
   ]
  }
 ],
 "metadata": {
  "kernelspec": {
   "display_name": "Python 3",
   "language": "python",
   "name": "python3"
  },
  "language_info": {
   "codemirror_mode": {
    "name": "ipython",
    "version": 3
   },
   "file_extension": ".py",
   "mimetype": "text/x-python",
   "name": "python",
   "nbconvert_exporter": "python",
   "pygments_lexer": "ipython3",
   "version": "3.13.7"
  }
 },
 "nbformat": 4,
 "nbformat_minor": 5
}
