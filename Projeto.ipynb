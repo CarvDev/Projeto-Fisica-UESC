{
 "cells": [
  {
   "cell_type": "markdown",
   "id": "50c08106",
   "metadata": {},
   "source": [
    "## Bem-vindo! \n",
    "\n",
    "##### Esse projeto visa simular um corpo em queda livre, sob a ação da resistência do ar, ou não, com o intuito de analisar os princípios de conservação e dissipação de energia (proposta de projeto 4)\n",
    "\n",
    "**Feito por:** Arthur de Carvalho, Marcel Figueredo e Paulo de Pinho\n",
    "\n",
    "**Bibliotecas usadas:** Math, Numpy e Matplotlib \n",
    "\n",
    "**Constante usada para aceleração da gravidade:**  9,8 m/s² \n"
   ]
  },
  {
   "cell_type": "code",
   "execution_count": null,
   "id": "dfc86e53",
   "metadata": {},
   "outputs": [],
   "source": [
    "# importando bibliotecas:\n",
    "import math\n",
    "import numpy as np\n",
    "import matplotlib.pyplot as plt\n",
    "\n",
    "# funções:\n",
    "def ler_valor(string):\n",
    "    return float(input(string).replace(',', '.')) # função replace() para permitir que o usuário insira um número com casas decimais com separação por vírgula"
   ]
  },
  {
   "cell_type": "code",
   "execution_count": null,
   "id": "1245d58d",
   "metadata": {},
   "outputs": [],
   "source": [
    "# lendo e declarando os valores iniciais:\n",
    "g = 9.8 # declarando constante de aceleração da gravidade\n",
    "\n",
    "m_objeto = ler_valor(\"Insira a massa do objeto (Kg): \") # lendo valor da massa do objeto\n",
    "while (m_objeto <= 0): # verificando se há erros para o valor da massa\n",
    "    m_objeto = ler_valor(\"Valor inválido para a massa do objeto (Kg). Insira um novo valor maior que zero: \") # lendo novamente o valor em caso de erro\n",
    "\n",
    "h_objeto = ler_valor(\"Insira a distância entre o objeto e o chão (m): \") # lendo valor da distância do objeto em relação ao chão\n",
    "while (h_objeto <= 0): # verificando se há erros para o valor da altura\n",
    "    h_objeto = ler_valor(\"Valor inválido para a distância do objeto ao chão (m). Insira um novo valor maior que zero: \") # lendo novamente o valor em caso de erro\n",
    "\n",
    "k = ler_valor(\"Insira o coeficiente de arrasto (0 para ignorar a resistência do ar): \") # lendo coeficiente de arrasto\n",
    "while (k < 0): # verificando se há erros para o coeficiente de arrasto\n",
    "    k = ler_valor(\"Valor inválido para o coeficiente de arrasto. Insira um novo valor maior ou igual a zero\") # lendo novamente o valor em caso de erro\n",
    "\n",
    "# verificando se há um erro de desproporção entre as medidas:\n",
    "if (k * h_objeto) / m_objeto >= 700: # verificando erros de desproporção extrema entre os valores\n",
    "    raise OverflowError(\"ERRO: A combinação de k, altura e massa é muito extrema e causa um Overflow. Rode o código novamente e tente novos valores.\") # exibindo mensagem de erro"
   ]
  },
  {
   "cell_type": "code",
   "execution_count": null,
   "id": "581988f1",
   "metadata": {},
   "outputs": [],
   "source": [
    "# implementando resistência do ar:\n",
    "if (k != 0): # Considerando resistência do ar no cálculo da altura durante a queda:\n",
    "    v_terminal = math.sqrt(m_objeto * g / k) # velocidade terminal\n",
    "    \n",
    "    termo_exp = math.exp((g * h_objeto) / (v_terminal**2)) # uma variável auxiliar para calcular o tempo real de queda, considerando a resistência do ar \n",
    "    t_final = (v_terminal / g) * math.acosh(termo_exp) # calculando o tempo final de queda, considerando a resistência do ar\n",
    "    t_queda = np.linspace(0, t_final, num=1000) # tempo de queda em diferentes instantes do movimento\n",
    "    \n",
    "    v = v_terminal * np.tanh((g / v_terminal) * t_queda) # velocidade do objeto ao longo do movimento\n",
    "    \n",
    "    h_t = h_objeto - (m_objeto / k) * np.log(np.cosh((k / m_objeto) * t_queda * v_terminal)) # altura do objeto em função do tempo\n",
    "    h_t = np.maximum(h_t, 0.0) # limitando a altura a zero (para que o objeto não atravesse o chão após o impacto)\n",
    "    \n",
    "else: # Desconsiderando resistência do ar no cálculo da altura durante a queda.\n",
    "    t_final = math.sqrt(2 * h_objeto / g) # tempo de queda final\n",
    "    t_queda = np.linspace(0, t_final, num=1000) # tempo de queda em diferentes instantes\n",
    "\n",
    "    h_t = h_objeto - 0.5 * g * t_queda**2 # computando altura como função do tempo sob a queda livre\n",
    "    h_t = np.maximum(h_t, 0.0) # limitando a altura a zero (para que o objeto não atravesse o chão após o impacto)\n",
    "\n",
    "    v = g * t_queda # velocidade do objeto ao longo do movimento\n",
    "\n",
    "# calculando energia cinética e potencial:\n",
    "energia_cinetica = 0.5 * m_objeto * v ** 2 # cálculo da energia cinética nos diversos instantes de tempo\n",
    "energia_potencial = m_objeto * g * h_t # energia potencial gravitacional em relação ao tempo"
   ]
  },
  {
   "cell_type": "code",
   "execution_count": null,
   "id": "93a671e3",
   "metadata": {},
   "outputs": [],
   "source": [
    "# plotando energia potencial gravitacional em função do tempo de queda:\n",
    "fig, ax = plt.subplots()\n",
    "ax.plot(t_queda, energia_potencial)\n",
    "ax.set_title(\"Energia Potencial Gravitacional x Tempo de Queda\")\n",
    "ax.set_xlabel(\"Tempo de Queda (s)\")\n",
    "ax.set_ylabel(\"Energia Potencial Gravitacional (J)\")\n",
    "plt.grid(True)\n",
    "plt.show()\n",
    "\n",
    "# plotando energia cinética em função do tempo de queda:\n",
    "fig, ax = plt.subplots()\n",
    "ax.plot(t_queda, energia_cinetica)\n",
    "ax.set_title(\"Energia Cinética x Tempo de Queda\")\n",
    "ax.set_xlabel(\"Tempo de Queda (s)\")\n",
    "ax.set_ylabel(\"Energia Cinética (J)\")\n",
    "plt.grid(True)\n",
    "plt.show()\n",
    "\n",
    "# verificando se há dissipação de energia\n",
    "energia_total = energia_potencial + energia_cinetica # calculando energia total do sistema, somando energia potencial e cinética\n",
    "energia_total_constante = np.allclose(energia_total, energia_total[0]) # verificando se a energia total do sistema é constante\n",
    "\n",
    "# estrutura condicional para informar se a energia total do sistema é constante ou não. Se não for, também plota o gráfico da energia dissipada\n",
    "if (energia_total_constante):\n",
    "    print(\"A energia total do sistema é constante ao longo do tempo, conforme esperado pela conservação de energia.\")\n",
    "else:\n",
    "    print(\"A energia total do sistema não é constante, logo há alguma perda de energia (devido à resistência do ar).\")\n",
    "    \n",
    "    # plotando gráfico de dissipação da energia:\n",
    "    energia_dissipada = m_objeto * g * h_objeto - energia_total # calculando a energia dissipada pela resistência do ar\n",
    "    fig, ax = plt.subplots()\n",
    "    ax.plot(t_queda, energia_dissipada)\n",
    "    ax.set_title(\"Energia Dissipada x Tempo de Queda\")\n",
    "    ax.set_xlabel(\"Tempo de Queda (s)\")\n",
    "    ax.set_ylabel(\"Energia Dissipada (J)\")\n",
    "    plt.grid(True)\n",
    "    plt.show()"
   ]
  }
 ],
 "metadata": {
  "kernelspec": {
   "display_name": "venv",
   "language": "python",
   "name": "python3"
  },
  "language_info": {
   "codemirror_mode": {
    "name": "ipython",
    "version": 3
   },
   "file_extension": ".py",
   "mimetype": "text/x-python",
   "name": "python",
   "nbconvert_exporter": "python",
   "pygments_lexer": "ipython3",
   "version": "3.13.7"
  }
 },
 "nbformat": 4,
 "nbformat_minor": 5
}
