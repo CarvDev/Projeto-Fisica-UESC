{
 "cells": [
  {
   "cell_type": "markdown",
   "id": "50c08106",
   "metadata": {},
   "source": [
    "## Bem vindo! \n",
    "\n",
    "##### Esse projeto visa simular um corpo em queda e uma mola oscilante com o intuito de analisar os princípios de conservação e dissipação de energia (proposta 4)\n",
    "\n",
    "**Feito por:** Arthur de Carvalho, Marcel Figueredo e Paulo de Pinho\n",
    "\n",
    "**Bibliotecas usadas:** Numpy e Matplotlib \n",
    "\n",
    "**Constantes usadas:** \n",
    "\n",
    "- **Aceleração da gravidade:**  9,8 m/s²\n",
    "- **Força de resistência do ar:** 0,0144 x v² \n"
   ]
  },
  {
   "cell_type": "code",
   "execution_count": null,
   "id": "dfc86e53",
   "metadata": {},
   "outputs": [],
   "source": [
    "# import numpy as np\n",
    "# import matplotlib as plt"
   ]
  },
  {
   "cell_type": "code",
   "execution_count": null,
   "id": "1245d58d",
   "metadata": {},
   "outputs": [],
   "source": [
    "m_objeto = float(input(\"Insira a massa do objeto (Kg): \"))\n",
    "h_objeto = float(input(\"Insira a distância do objeto em relação ao chão (m): \"))\n",
    "y_mola = float(input(\"Insira o comprimento da mola (m): \"))\n",
    "k_mola = float(input(\"Insira a constante elástica da mola (N/m): \"))"
   ]
  }
 ],
 "metadata": {
  "kernelspec": {
   "display_name": "venv",
   "language": "python",
   "name": "python3"
  },
  "language_info": {
   "name": "python",
   "version": "3.13.7"
  }
 },
 "nbformat": 4,
 "nbformat_minor": 5
}
